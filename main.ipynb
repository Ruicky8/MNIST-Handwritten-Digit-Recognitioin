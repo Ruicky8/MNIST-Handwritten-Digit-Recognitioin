{
 "cells": [
  {
   "cell_type": "code",
   "execution_count": 1,
   "metadata": {},
   "outputs": [],
   "source": [
    "import os\n",
    "from os.path import isfile, join"
   ]
  },
  {
   "cell_type": "code",
   "execution_count": 6,
   "metadata": {},
   "outputs": [],
   "source": [
    "def list_files(path):\n",
    "    return [file for file in os.listdir(path) if isfile(join(path, file))]"
   ]
  },
  {
   "cell_type": "code",
   "execution_count": 9,
   "metadata": {},
   "outputs": [],
   "source": [
    "import gzip\n",
    "import numpy as np"
   ]
  },
  {
   "cell_type": "code",
   "execution_count": 12,
   "metadata": {},
   "outputs": [],
   "source": [
    "def get_images(path):\n",
    "    for file in list_files(path):\n",
    "        with gzip.open(join(path, file), \"rb\") as f:\n",
    "            if \"train-images\" in file:\n",
    "                _ = int.from_bytes(f.read(4), \"big\")\n",
    "                number_of_items = int.from_bytes(f.read(4), \"big\")\n",
    "                rows = int.from_bytes(f.read(4), \"big\")\n",
    "                columns = int.from_bytes(f.read(4), \"big\")\n",
    "                pixels = f.read()\n",
    "                x_train = np.frombuffer(pixels, dtype=np.uint8)\n",
    "                x_train = x_train.reshape((number_of_items, rows, columns))\n",
    "            elif \"train-labels\" in file:\n",
    "                labels = f.read()[8:]\n",
    "                y_train = np.frombuffer(labels, dtype=np.uint8)\n",
    "            elif \"t10k-images\" in file:\n",
    "                _ = int.from_bytes(f.read(4), \"big\")\n",
    "                number_of_items = int.from_bytes(f.read(4), \"big\")\n",
    "                rows = int.from_bytes(f.read(4), \"big\")\n",
    "                columns = int.from_bytes(f.read(4), \"big\")\n",
    "                pixels = f.read()\n",
    "                x_test = np.frombuffer(pixels, dtype=np.uint8)\n",
    "                x_test = x_test.reshape((number_of_items, rows, columns))\n",
    "            elif \"t10k-labels\" in file:\n",
    "                labels = f.read()[8:]\n",
    "                y_test = np.frombuffer(labels, dtype=np.uint8)\n",
    "    return x_train, y_train, x_test, y_test"
   ]
  },
  {
   "cell_type": "code",
   "execution_count": 13,
   "metadata": {},
   "outputs": [],
   "source": [
    "dataset_path = \"./dataset/\"\n",
    "x_train, y_train, x_test, y_test = get_images(dataset_path)"
   ]
  },
  {
   "cell_type": "code",
   "execution_count": 21,
   "metadata": {},
   "outputs": [
    {
     "name": "stdout",
     "output_type": "stream",
     "text": [
      "The number is: 1\n"
     ]
    },
    {
     "data": {
      "image/png": "[encoded data removed]",
      "text/plain": [
       "<Figure size 432x288 with 1 Axes>"
      ]
     },
     "metadata": {
      "needs_background": "light"
     },
     "output_type": "display_data"
    }
   ],
   "source": [
    "# Testing is data is correct\n",
    "import matplotlib.pyplot as plt\n",
    "from random import randint\n",
    "\n",
    "i = randint(0, 1000)\n",
    "plt.imshow(x_train[i], cmap=plt.get_cmap(\"gray\"))\n",
    "print(\"The number is: \" + str(y_train[i]))"
   ]
  }
 ],
 "metadata": {
  "kernelspec": {
   "display_name": "Python 3.9.0 64-bit",
   "language": "python",
   "name": "python3"
  },
  "language_info": {
   "codemirror_mode": {
    "name": "ipython",
    "version": 3
   },
   "file_extension": ".py",
   "mimetype": "text/x-python",
   "name": "python",
   "nbconvert_exporter": "python",
   "pygments_lexer": "ipython3",
   "version": "3.9.0"
  },
  "orig_nbformat": 4,
  "vscode": {
   "interpreter": {
    "hash": "23d75174b31ca4fcf71687e5660e0534c2f456560373f0bf6ae035518c9290e4"
   }
  }
 },
 "nbformat": 4,
 "nbformat_minor": 2
}
